{
 "cells": [
  {
   "cell_type": "code",
   "execution_count": 1,
   "metadata": {},
   "outputs": [
    {
     "name": "stderr",
     "output_type": "stream",
     "text": [
      "/Users/wgiles/miniconda3/envs/pdf/lib/python3.12/site-packages/pypdf/_crypt_providers/_cryptography.py:32: CryptographyDeprecationWarning: ARC4 has been moved to cryptography.hazmat.decrepit.ciphers.algorithms.ARC4 and will be removed from this module in 48.0.0.\n",
      "  from cryptography.hazmat.primitives.ciphers.algorithms import AES, ARC4\n"
     ]
    }
   ],
   "source": [
    "from io import BytesIO, StringIO\n",
    "from pypdf import PdfReader\n",
    "from urllib.request import Request, urlopen"
   ]
  },
  {
   "cell_type": "code",
   "execution_count": 2,
   "metadata": {},
   "outputs": [],
   "source": [
    "url = \"https://dmv.ca.gov/portal/file/waymo_07022024-pdf\"\n",
    "remoteFile = urlopen(Request(url)).read()\n",
    "memoryFile = BytesIO(remoteFile)\n",
    "\n",
    "reader = PdfReader(memoryFile)"
   ]
  },
  {
   "cell_type": "code",
   "execution_count": 3,
   "metadata": {},
   "outputs": [
    {
     "data": {
      "text/plain": [
       "['_ID',\n",
       " '__annotations__',\n",
       " '__class__',\n",
       " '__delattr__',\n",
       " '__dict__',\n",
       " '__dir__',\n",
       " '__doc__',\n",
       " '__enter__',\n",
       " '__eq__',\n",
       " '__exit__',\n",
       " '__format__',\n",
       " '__ge__',\n",
       " '__getattribute__',\n",
       " '__getstate__',\n",
       " '__gt__',\n",
       " '__hash__',\n",
       " '__init__',\n",
       " '__init_subclass__',\n",
       " '__le__',\n",
       " '__lt__',\n",
       " '__module__',\n",
       " '__ne__',\n",
       " '__new__',\n",
       " '__reduce__',\n",
       " '__reduce_ex__',\n",
       " '__repr__',\n",
       " '__setattr__',\n",
       " '__sizeof__',\n",
       " '__str__',\n",
       " '__subclasshook__',\n",
       " '__weakref__',\n",
       " '_basic_validation',\n",
       " '_build_destination',\n",
       " '_build_field',\n",
       " '_build_outline_item',\n",
       " '_check_kids',\n",
       " '_encryption',\n",
       " '_find_eof_marker',\n",
       " '_find_startxref_pos',\n",
       " '_flatten',\n",
       " '_get_attachment_list',\n",
       " '_get_attachments',\n",
       " '_get_indirect_object',\n",
       " '_get_named_destinations',\n",
       " '_get_object_from_stream',\n",
       " '_get_outline',\n",
       " '_get_page',\n",
       " '_get_page_number_by_indirect',\n",
       " '_get_qualified_field_name',\n",
       " '_get_xref_issues',\n",
       " '_info',\n",
       " '_list_attachments',\n",
       " '_override_encryption',\n",
       " '_page_id2num',\n",
       " '_pairs',\n",
       " '_read_pdf15_xref_stream',\n",
       " '_read_standard_xref_table',\n",
       " '_read_xref',\n",
       " '_read_xref_other_error',\n",
       " '_read_xref_subsections',\n",
       " '_read_xref_tables_and_trailers',\n",
       " '_rebuild_xref_table',\n",
       " '_replace_object',\n",
       " '_repr_mimebundle_',\n",
       " '_stream_opened',\n",
       " '_write_field',\n",
       " 'add_form_topname',\n",
       " 'attachments',\n",
       " 'cache_get_indirect_object',\n",
       " 'cache_indirect_object',\n",
       " 'close',\n",
       " 'decode_permissions',\n",
       " 'decrypt',\n",
       " 'flattened_pages',\n",
       " 'get_destination_page_number',\n",
       " 'get_fields',\n",
       " 'get_form_text_fields',\n",
       " 'get_named_dest_root',\n",
       " 'get_num_pages',\n",
       " 'get_object',\n",
       " 'get_page',\n",
       " 'get_page_number',\n",
       " 'get_pages_showing_field',\n",
       " 'is_encrypted',\n",
       " 'metadata',\n",
       " 'named_destinations',\n",
       " 'open_destination',\n",
       " 'outline',\n",
       " 'page_labels',\n",
       " 'page_layout',\n",
       " 'page_mode',\n",
       " 'pages',\n",
       " 'pdf_header',\n",
       " 'read',\n",
       " 'read_object_header',\n",
       " 'remove_page',\n",
       " 'rename_form_topname',\n",
       " 'resolved_objects',\n",
       " 'root_object',\n",
       " 'stream',\n",
       " 'strict',\n",
       " 'threads',\n",
       " 'trailer',\n",
       " 'user_access_permissions',\n",
       " 'viewer_preferences',\n",
       " 'xfa',\n",
       " 'xmp_metadata',\n",
       " 'xref',\n",
       " 'xref_free_entry',\n",
       " 'xref_index',\n",
       " 'xref_objStm']"
      ]
     },
     "execution_count": 3,
     "metadata": {},
     "output_type": "execute_result"
    }
   ],
   "source": [
    "dir(reader)"
   ]
  },
  {
   "cell_type": "code",
   "execution_count": null,
   "metadata": {},
   "outputs": [],
   "source": [
    "reader.get_fields()"
   ]
  }
 ],
 "metadata": {
  "kernelspec": {
   "display_name": "pdf",
   "language": "python",
   "name": "python3"
  },
  "language_info": {
   "codemirror_mode": {
    "name": "ipython",
    "version": 3
   },
   "file_extension": ".py",
   "mimetype": "text/x-python",
   "name": "python",
   "nbconvert_exporter": "python",
   "pygments_lexer": "ipython3",
   "version": "3.12.4"
  }
 },
 "nbformat": 4,
 "nbformat_minor": 2
}
